{
 "cells": [
  {
   "cell_type": "code",
   "execution_count": 9,
   "metadata": {},
   "outputs": [],
   "source": [
    "import numpy as np\n",
    "import random as rm"
   ]
  },
  {
   "cell_type": "code",
   "execution_count": 42,
   "metadata": {},
   "outputs": [],
   "source": [
    "a = 5 #size of alphabet\n",
    "n = 4 # bound on length of words\n",
    "N = 10 #number of words"
   ]
  },
  {
   "cell_type": "code",
   "execution_count": 69,
   "metadata": {},
   "outputs": [],
   "source": [
    "#Initialize letters and transition probabilities\n",
    "letters = [i for i in range(a)]\n",
    "next_letter = []\n",
    "for i in range(a):\n",
    "    new = rm.sample(letters,rm.randint(1,a))\n",
    "    new.append(\"stop\")\n",
    "    next_letter.append(new)"
   ]
  },
  {
   "cell_type": "code",
   "execution_count": 70,
   "metadata": {},
   "outputs": [
    {
     "data": {
      "text/plain": [
       "[[1, 4, 'stop'],\n",
       " [2, 0, 3, 1, 'stop'],\n",
       " [1, 3, 4, 0, 'stop'],\n",
       " [3, 0, 'stop'],\n",
       " [1, 4, 'stop']]"
      ]
     },
     "execution_count": 70,
     "metadata": {},
     "output_type": "execute_result"
    }
   ],
   "source": [
    "next_letter"
   ]
  },
  {
   "cell_type": "code",
   "execution_count": 75,
   "metadata": {},
   "outputs": [],
   "source": [
    "#Generate dictionary of new words\n",
    "#When building a word, will keep appending letters to current word unless transition to \"stop\"\n",
    "dictionary = []\n",
    "for j in range(N):\n",
    "    i = 1\n",
    "    old_letter = rm.choice(letters)\n",
    "    new_word = [old_letter]\n",
    "    while i < n:\n",
    "        new_letter = rm.choice(next_letter[old_letter])\n",
    "        if new_letter == \"stop\":\n",
    "            break\n",
    "        new_word.append(new_letter)\n",
    "        old_letter = new_letter\n",
    "        i += 1\n",
    "    dictionary.append(new_word)"
   ]
  },
  {
   "cell_type": "code",
   "execution_count": 76,
   "metadata": {},
   "outputs": [
    {
     "data": {
      "text/plain": [
       "[[4, 4],\n",
       " [2, 0, 1, 3],\n",
       " [2, 4, 1, 1],\n",
       " [0, 4, 4],\n",
       " [3, 0, 1, 1],\n",
       " [2, 4],\n",
       " [3, 0],\n",
       " [2, 0, 4, 1],\n",
       " [2, 3],\n",
       " [3, 3, 3]]"
      ]
     },
     "execution_count": 76,
     "metadata": {},
     "output_type": "execute_result"
    }
   ],
   "source": [
    "dictionary"
   ]
  },
  {
   "cell_type": "code",
   "execution_count": null,
   "metadata": {},
   "outputs": [],
   "source": []
  }
 ],
 "metadata": {
  "kernelspec": {
   "display_name": "Python 3",
   "language": "python",
   "name": "python3"
  },
  "language_info": {
   "codemirror_mode": {
    "name": "ipython",
    "version": 3
   },
   "file_extension": ".py",
   "mimetype": "text/x-python",
   "name": "python",
   "nbconvert_exporter": "python",
   "pygments_lexer": "ipython3",
   "version": "3.7.3"
  }
 },
 "nbformat": 4,
 "nbformat_minor": 2
}
