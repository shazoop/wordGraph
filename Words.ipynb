{
 "cells": [
  {
   "cell_type": "code",
   "execution_count": 1,
   "metadata": {},
   "outputs": [],
   "source": [
    "import numpy as np\n",
    "import random as rm"
   ]
  },
  {
   "cell_type": "code",
   "execution_count": 2,
   "metadata": {},
   "outputs": [],
   "source": [
    "a = 5 #size of alphabet\n",
    "n = 4 # bound on length of words\n",
    "N = 10 #number of words"
   ]
  },
  {
   "cell_type": "code",
   "execution_count": 3,
   "metadata": {},
   "outputs": [],
   "source": [
    "#Initialize letters and transition probabilities\n",
    "letters = [i for i in range(a)]\n",
    "next_letter = []\n",
    "for i in range(a):\n",
    "    new = rm.sample(letters,rm.randint(1,a))\n",
    "    new.append(\"stop\")\n",
    "    next_letter.append(new)"
   ]
  },
  {
   "cell_type": "code",
   "execution_count": 4,
   "metadata": {},
   "outputs": [
    {
     "data": {
      "text/plain": [
       "[[3, 1, 4, 0, 2, 'stop'],\n",
       " [3, 2, 1, 'stop'],\n",
       " [2, 3, 4, 1, 'stop'],\n",
       " [3, 0, 1, 2, 4, 'stop'],\n",
       " [0, 1, 4, 'stop']]"
      ]
     },
     "execution_count": 4,
     "metadata": {},
     "output_type": "execute_result"
    }
   ],
   "source": [
    "next_letter"
   ]
  },
  {
   "cell_type": "code",
   "execution_count": 5,
   "metadata": {},
   "outputs": [],
   "source": [
    "#Generate dictionary of new words\n",
    "#When building a word, will keep appending letters to current word unless transition to \"stop\"\n",
    "dictionary = []\n",
    "for j in range(N):\n",
    "    i = 1\n",
    "    old_letter = rm.choice(letters)\n",
    "    new_word = [old_letter]\n",
    "    while i < n:\n",
    "        new_letter = rm.choice(next_letter[old_letter])\n",
    "        if new_letter == \"stop\":\n",
    "            break\n",
    "        new_word.append(new_letter)\n",
    "        old_letter = new_letter\n",
    "        i += 1\n",
    "    dictionary.append(new_word)"
   ]
  },
  {
   "cell_type": "code",
   "execution_count": 6,
   "metadata": {},
   "outputs": [
    {
     "data": {
      "text/plain": [
       "[[3, 0, 3, 0],\n",
       " [4, 1, 2, 3],\n",
       " [2, 1, 2, 4],\n",
       " [3, 0, 3, 0],\n",
       " [1, 1, 3, 4],\n",
       " [2, 3, 2, 4],\n",
       " [4, 1, 2, 2],\n",
       " [1],\n",
       " [3, 2],\n",
       " [4, 0, 4, 4]]"
      ]
     },
     "execution_count": 6,
     "metadata": {},
     "output_type": "execute_result"
    }
   ],
   "source": [
    "dictionary"
   ]
  },
  {
   "cell_type": "code",
   "execution_count": 13,
   "metadata": {},
   "outputs": [
    {
     "data": {
      "text/plain": [
       "array([[0., 1., 0.],\n",
       "       [0., 0., 0.],\n",
       "       [0., 0., 0.]])"
      ]
     },
     "execution_count": 13,
     "metadata": {},
     "output_type": "execute_result"
    }
   ],
   "source": [
    "test = np.zeros(3)\n",
    "test[0] = 1\n",
    "test2 = np.zeros(3)\n",
    "test2[1] = 1\n",
    "np.outer(test,test2)"
   ]
  },
  {
   "cell_type": "code",
   "execution_count": 17,
   "metadata": {},
   "outputs": [],
   "source": [
    "def onehot(x,a):\n",
    "    z = np.zeroes(a)\n",
    "    z[a] = 1\n",
    "    return z"
   ]
  },
  {
   "cell_type": "code",
   "execution_count": null,
   "metadata": {},
   "outputs": [],
   "source": [
    "max_words = 100\n",
    "learn_rate = .5\n",
    "forget_rate = 2*.2 #twice the expected length until a random bigram occurs"
   ]
  },
  {
   "cell_type": "code",
   "execution_count": 16,
   "metadata": {},
   "outputs": [
    {
     "data": {
      "text/plain": [
       "[4, 0, 4, 4]"
      ]
     },
     "execution_count": 16,
     "metadata": {},
     "output_type": "execute_result"
    }
   ],
   "source": [
    "rm.choice(dictionary)"
   ]
  },
  {
   "cell_type": "code",
   "execution_count": 35,
   "metadata": {},
   "outputs": [
    {
     "data": {
      "text/plain": [
       "10"
      ]
     },
     "execution_count": 35,
     "metadata": {},
     "output_type": "execute_result"
    }
   ],
   "source": [
    "len(list(range(10)))"
   ]
  },
  {
   "cell_type": "code",
   "execution_count": null,
   "metadata": {},
   "outputs": [],
   "source": []
  },
  {
   "cell_type": "code",
   "execution_count": null,
   "metadata": {},
   "outputs": [],
   "source": [
    "num_words = 1\n",
    "curr_string = rm.choice(dictionary)\n",
    "onehot_old = np.zeroes(a)\n",
    "Q = np.zeros((a,a))\n",
    "while num_words < max_words:\n",
    "    x_new = onehot(curr_string.pop(0)\n",
    "    Q += learn_rate*(np.outer(x_new),x_old) - forget_rate*Q)\n",
    "    x_old = x_new\n",
    "    if len(curr_string) <= 1:\n",
    "        curr_string = curr_string + rm.choice(dictionary)\n",
    "        num_words += 1\n",
    "    \n",
    "    \n",
    "    \n",
    "    "
   ]
  }
 ],
 "metadata": {
  "kernelspec": {
   "display_name": "Python 3",
   "language": "python",
   "name": "python3"
  },
  "language_info": {
   "codemirror_mode": {
    "name": "ipython",
    "version": 3
   },
   "file_extension": ".py",
   "mimetype": "text/x-python",
   "name": "python",
   "nbconvert_exporter": "python",
   "pygments_lexer": "ipython3",
   "version": "3.7.3"
  }
 },
 "nbformat": 4,
 "nbformat_minor": 2
}
